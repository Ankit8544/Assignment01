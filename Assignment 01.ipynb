{
 "cells": [
  {
   "cell_type": "markdown",
   "id": "aaa07c3d-86f3-4e0f-aedd-451fa5bd4814",
   "metadata": {},
   "source": [
    "Q No.01-    Create one variable containing following type of data:\n",
    "            \n",
    "            String\n",
    "            List\n",
    "            Float\n",
    "            Tuple"
   ]
  },
  {
   "cell_type": "markdown",
   "id": "64af935f-362e-4e8e-9e20-1e2c57d49f47",
   "metadata": {},
   "source": [
    "Ans:-"
   ]
  },
  {
   "cell_type": "code",
   "execution_count": 1,
   "id": "73c09873-f8dd-4d3e-b644-6ef19688fcac",
   "metadata": {},
   "outputs": [],
   "source": [
    "i = \"Ankit\""
   ]
  },
  {
   "cell_type": "code",
   "execution_count": 2,
   "id": "50ec9cea-ece7-487d-8236-68e496bfa862",
   "metadata": {},
   "outputs": [
    {
     "data": {
      "text/plain": [
       "str"
      ]
     },
     "execution_count": 2,
     "metadata": {},
     "output_type": "execute_result"
    }
   ],
   "source": [
    "type(i)"
   ]
  },
  {
   "cell_type": "code",
   "execution_count": 3,
   "id": "4922e43b-79fa-49da-80bc-67e8cb3b70ab",
   "metadata": {},
   "outputs": [],
   "source": [
    "ii = [21,54,'Niraj',87.54,4+6j,True]"
   ]
  },
  {
   "cell_type": "code",
   "execution_count": 4,
   "id": "33b7ee2b-f683-4de1-99bc-e4d88dccf007",
   "metadata": {},
   "outputs": [
    {
     "data": {
      "text/plain": [
       "list"
      ]
     },
     "execution_count": 4,
     "metadata": {},
     "output_type": "execute_result"
    }
   ],
   "source": [
    "type(ii)"
   ]
  },
  {
   "cell_type": "code",
   "execution_count": 5,
   "id": "c42d5a0a-a027-4c44-937d-9dc0b03a5bec",
   "metadata": {},
   "outputs": [],
   "source": [
    "iii = 78.90"
   ]
  },
  {
   "cell_type": "code",
   "execution_count": 6,
   "id": "49971a46-d708-41a8-a1ff-8dd79d922253",
   "metadata": {},
   "outputs": [
    {
     "data": {
      "text/plain": [
       "float"
      ]
     },
     "execution_count": 6,
     "metadata": {},
     "output_type": "execute_result"
    }
   ],
   "source": [
    "type(iii)"
   ]
  },
  {
   "cell_type": "code",
   "execution_count": 7,
   "id": "4085f944-7f4e-4d43-85f7-a0a9c166e7d6",
   "metadata": {},
   "outputs": [],
   "source": [
    "iv = (12,45,'Ankit',45.78,6+4j,False)"
   ]
  },
  {
   "cell_type": "code",
   "execution_count": 8,
   "id": "940041ac-5851-4e3a-b7ee-fe96691f0090",
   "metadata": {},
   "outputs": [
    {
     "data": {
      "text/plain": [
       "tuple"
      ]
     },
     "execution_count": 8,
     "metadata": {},
     "output_type": "execute_result"
    }
   ],
   "source": [
    "type(iv)"
   ]
  },
  {
   "cell_type": "markdown",
   "id": "f9d808a3-c926-4e8e-9e99-4f94f2e4daa5",
   "metadata": {},
   "source": [
    "        x        x        x        x        x        x        x        x        x        x                "
   ]
  },
  {
   "cell_type": "markdown",
   "id": "5833af75-a604-4db5-a0e8-6f4ae12436ba",
   "metadata": {},
   "source": [
    "Q No.02-    Given are some following variables containing data:\n",
    "\n",
    "            var1 = ‘ ‘\n",
    "            var2 = ‘[ DS , ML , Python]’\n",
    "            var3 = [ ‘DS’ , ’ML’ , ‘Python’ ]\n",
    "            var4 = 1.0\n",
    "\n",
    "         What will be the data type of the above given variable?"
   ]
  },
  {
   "cell_type": "markdown",
   "id": "00dd81d6-ed33-4401-accf-3c1563560537",
   "metadata": {},
   "source": [
    "Ans:-"
   ]
  },
  {
   "cell_type": "code",
   "execution_count": 1,
   "id": "da17c409-0f58-43cf-8f78-f6f1fa012685",
   "metadata": {},
   "outputs": [],
   "source": [
    "var1 = 'PW Skills'"
   ]
  },
  {
   "cell_type": "code",
   "execution_count": 2,
   "id": "27c96c95-d057-46b3-bc2c-6bf22a29405d",
   "metadata": {},
   "outputs": [
    {
     "data": {
      "text/plain": [
       "str"
      ]
     },
     "execution_count": 2,
     "metadata": {},
     "output_type": "execute_result"
    }
   ],
   "source": [
    "type(var1)"
   ]
  },
  {
   "cell_type": "code",
   "execution_count": 3,
   "id": "b76c7781-a3c9-4931-9d64-41d89cc3403f",
   "metadata": {},
   "outputs": [],
   "source": [
    "var2 = '[ DS , ML , Python]'"
   ]
  },
  {
   "cell_type": "code",
   "execution_count": 4,
   "id": "d9510119-6ecf-4149-adaa-09a295e2e18b",
   "metadata": {},
   "outputs": [
    {
     "data": {
      "text/plain": [
       "str"
      ]
     },
     "execution_count": 4,
     "metadata": {},
     "output_type": "execute_result"
    }
   ],
   "source": [
    "type(var2)"
   ]
  },
  {
   "cell_type": "code",
   "execution_count": 5,
   "id": "f1890898-ef42-4b30-a374-4e3524494bb7",
   "metadata": {},
   "outputs": [],
   "source": [
    "var3 = ['DS','ML','Python']"
   ]
  },
  {
   "cell_type": "code",
   "execution_count": 6,
   "id": "8b86acbe-514a-4757-b59c-9b733c8e9c70",
   "metadata": {},
   "outputs": [
    {
     "data": {
      "text/plain": [
       "list"
      ]
     },
     "execution_count": 6,
     "metadata": {},
     "output_type": "execute_result"
    }
   ],
   "source": [
    "type(var3)"
   ]
  },
  {
   "cell_type": "code",
   "execution_count": 7,
   "id": "f3bae98b-ea01-4a85-adaf-28cffe044858",
   "metadata": {},
   "outputs": [],
   "source": [
    "var4 = 1."
   ]
  },
  {
   "cell_type": "code",
   "execution_count": 8,
   "id": "a9288cac-47bf-45b7-b19b-a457e6a4b06c",
   "metadata": {},
   "outputs": [
    {
     "data": {
      "text/plain": [
       "float"
      ]
     },
     "execution_count": 8,
     "metadata": {},
     "output_type": "execute_result"
    }
   ],
   "source": [
    "type(var4)"
   ]
  },
  {
   "cell_type": "markdown",
   "id": "5703998e-1a17-45a6-bb48-e1796be53625",
   "metadata": {},
   "source": [
    "        x        x        x        x        x        x        x        x        x        x        "
   ]
  },
  {
   "cell_type": "markdown",
   "id": "89320ac6-ee42-462d-9e63-1d6251f50670",
   "metadata": {},
   "source": [
    "Q No.03-    Explain the use of the following operators using an example:\n",
    "        \n",
    "            /\n",
    "            % \n",
    "            //\n",
    "            **"
   ]
  },
  {
   "cell_type": "markdown",
   "id": "4e546215-29d6-4cfb-a4b9-f0340a00bfd2",
   "metadata": {},
   "source": [
    "Ans:-"
   ]
  },
  {
   "cell_type": "markdown",
   "id": "fa30df13-e477-4391-91f9-0370f646bc99",
   "metadata": {},
   "source": [
    "        ( / Division )"
   ]
  },
  {
   "cell_type": "code",
   "execution_count": 18,
   "id": "7fa3ba69-dccc-4216-a74b-588bbe4df652",
   "metadata": {},
   "outputs": [
    {
     "name": "stdout",
     "output_type": "stream",
     "text": [
      "8.0\n"
     ]
    }
   ],
   "source": [
    "x = 16\n",
    "y = 2\n",
    "\n",
    "print(x/y)"
   ]
  },
  {
   "cell_type": "markdown",
   "id": "1e54977c-a5ee-4374-8cae-5b2b4634c58d",
   "metadata": {},
   "source": [
    "        ( % Modulus )"
   ]
  },
  {
   "cell_type": "code",
   "execution_count": 19,
   "id": "75327501-83b8-4c73-9234-67cd01aa3e72",
   "metadata": {},
   "outputs": [
    {
     "name": "stdout",
     "output_type": "stream",
     "text": [
      "1\n"
     ]
    }
   ],
   "source": [
    "x = 7\n",
    "y = 3\n",
    "\n",
    "print(x%y)"
   ]
  },
  {
   "cell_type": "markdown",
   "id": "6fa30259-14d1-489d-9d28-34cc4c94f802",
   "metadata": {},
   "source": [
    "        ( // Floor Division )"
   ]
  },
  {
   "cell_type": "code",
   "execution_count": 20,
   "id": "e433c604-a9d2-4cfd-8f4b-74dc95fe3647",
   "metadata": {},
   "outputs": [
    {
     "name": "stdout",
     "output_type": "stream",
     "text": [
      "13\n"
     ]
    }
   ],
   "source": [
    "x = 27\n",
    "y = 2 \n",
    "\n",
    "#the floor division // rounds the result down to the nearest whole number\n",
    "\n",
    "print(x//y)"
   ]
  },
  {
   "cell_type": "markdown",
   "id": "2415a758-9656-4fa1-9db0-2515da5a0a65",
   "metadata": {},
   "source": [
    "        ( ** Exponentiation )"
   ]
  },
  {
   "cell_type": "code",
   "execution_count": 21,
   "id": "92c6230f-32a8-46d8-9325-ec474c5a25e1",
   "metadata": {},
   "outputs": [
    {
     "name": "stdout",
     "output_type": "stream",
     "text": [
      "64\n"
     ]
    }
   ],
   "source": [
    "x = 4\n",
    "y = 3\n",
    "\n",
    "#same as 4*4*4\n",
    "\n",
    "print(x**y)"
   ]
  },
  {
   "cell_type": "markdown",
   "id": "54ab2118-9118-4e92-be3c-ca137834d3df",
   "metadata": {},
   "source": [
    "        x        x        x        x        x        x        x        x        x        x        "
   ]
  },
  {
   "cell_type": "markdown",
   "id": "42dc17ba-9d1c-48b0-97ce-ac434fe4b4c9",
   "metadata": {},
   "source": [
    "Q No.04-    Create a list of length 10 of your choice containing multiple types of data. \n",
    "Using for loop print the element and its data type."
   ]
  },
  {
   "cell_type": "markdown",
   "id": "c26e1951-cdcd-4d2c-914c-6872410b7d01",
   "metadata": {},
   "source": [
    "Ans:-"
   ]
  },
  {
   "cell_type": "code",
   "execution_count": 22,
   "id": "14a7b5be-9138-487d-bfbe-9c8265ca1485",
   "metadata": {},
   "outputs": [
    {
     "name": "stdout",
     "output_type": "stream",
     "text": [
      "<class 'int'>\n",
      "<class 'str'>\n",
      "<class 'float'>\n",
      "<class 'complex'>\n",
      "<class 'bool'>\n",
      "<class 'int'>\n",
      "<class 'str'>\n",
      "<class 'float'>\n",
      "<class 'complex'>\n",
      "<class 'bool'>\n"
     ]
    }
   ],
   "source": [
    "a = [21,'Next',74.5,9+3j,True,37,'Top',0.29,5j,False]\n",
    "for x in a:\n",
    "    print(type(x))"
   ]
  },
  {
   "cell_type": "markdown",
   "id": "1687a1d9-05a1-438c-b374-6053cb20f918",
   "metadata": {},
   "source": [
    "        x        x        x        x        x        x        x        x        x        x        "
   ]
  },
  {
   "cell_type": "markdown",
   "id": "2b913a54-c1c3-4d11-a59c-5acec8ef58ac",
   "metadata": {},
   "source": [
    "Q No.05-    Using a while loop, verify if the number A is purely divisible by number B and if so then how many\n",
    "times it can be divisible."
   ]
  },
  {
   "cell_type": "markdown",
   "id": "309366de-2855-4184-88b7-fafc2cffd7a3",
   "metadata": {},
   "source": [
    "Ans:-"
   ]
  },
  {
   "cell_type": "code",
   "execution_count": 4,
   "id": "07cda39c-73a8-4d88-9649-bf6316cbe0ca",
   "metadata": {},
   "outputs": [
    {
     "name": "stdin",
     "output_type": "stream",
     "text": [
      "Enter number A:  100\n",
      "Enter number B:  50\n"
     ]
    },
    {
     "name": "stdout",
     "output_type": "stream",
     "text": [
      "2 is divisible by 50 and it can be divided 1 times.\n"
     ]
    }
   ],
   "source": [
    "A = int(input(\"Enter number A: \"))\n",
    "B = int(input(\"Enter number B: \"))\n",
    "\n",
    "count = 0\n",
    "\n",
    "while A % B == 0:\n",
    "    A = A // B  \n",
    "    count += 1  \n",
    "    \n",
    "if count > 0:\n",
    "    print(f\"{A} is divisible by {B} and it can be divided {count} times.\")\n",
    "else:\n",
    "    print(f\"{A} is not divisible by {B}.\")"
   ]
  },
  {
   "cell_type": "markdown",
   "id": "40a1ed4a-b0fc-4c2f-bf18-46cf6761368d",
   "metadata": {},
   "source": [
    "        x        x        x        x        x        x        x        x        x        x        "
   ]
  },
  {
   "cell_type": "markdown",
   "id": "01918729-78c4-4805-9f73-c120c524ade1",
   "metadata": {},
   "source": [
    "Q No.06-    Create a list containing 25 int type data.\n",
    "Using for loop and if-else condition print if the element is divisible by 3 or not."
   ]
  },
  {
   "cell_type": "markdown",
   "id": "9521396a-ac73-4d6c-bd11-3b4f2992a655",
   "metadata": {},
   "source": [
    "Ans:-"
   ]
  },
  {
   "cell_type": "code",
   "execution_count": 6,
   "id": "d636addc-4456-44ed-a98b-a15e631cf858",
   "metadata": {},
   "outputs": [
    {
     "name": "stdout",
     "output_type": "stream",
     "text": [
      "1 is not divisible by 3.\n",
      "2 is not divisible by 3.\n",
      "3 is divisible by 3.\n",
      "4 is not divisible by 3.\n",
      "5 is not divisible by 3.\n",
      "6 is divisible by 3.\n",
      "7 is not divisible by 3.\n",
      "8 is not divisible by 3.\n",
      "9 is divisible by 3.\n",
      "10 is not divisible by 3.\n",
      "11 is not divisible by 3.\n",
      "12 is divisible by 3.\n",
      "13 is not divisible by 3.\n",
      "14 is not divisible by 3.\n",
      "15 is divisible by 3.\n",
      "16 is not divisible by 3.\n",
      "17 is not divisible by 3.\n",
      "18 is divisible by 3.\n",
      "19 is not divisible by 3.\n",
      "20 is not divisible by 3.\n",
      "21 is divisible by 3.\n",
      "22 is not divisible by 3.\n",
      "23 is not divisible by 3.\n",
      "24 is divisible by 3.\n",
      "25 is not divisible by 3.\n"
     ]
    }
   ],
   "source": [
    "a = [1,2,3,4,5,6,7,8,9,10,11,12,13,14,15,16,17,18,19,20,21,22,23,24,25]\n",
    "for x in a:\n",
    "    if x % 3 == 0:\n",
    "        print(f\"{x} is divisible by 3.\")\n",
    "    else:\n",
    "        print(f\"{x} is not divisible by 3.\")"
   ]
  },
  {
   "cell_type": "markdown",
   "id": "395f82fc-76a5-4011-9f4a-b45c8813b15b",
   "metadata": {},
   "source": [
    "        x        x        x        x        x        x        x        x        x        x        "
   ]
  },
  {
   "cell_type": "markdown",
   "id": "286787a7-2964-4002-b795-f78d77af74ea",
   "metadata": {},
   "source": [
    "Q No.07-    What do you understand about mutable and immutable data types? Give examples for both showing\n",
    "this property."
   ]
  },
  {
   "cell_type": "markdown",
   "id": "6199ff2e-de05-4f13-8c6a-86f57b5a9c3c",
   "metadata": {},
   "source": [
    "Ans:-"
   ]
  },
  {
   "cell_type": "markdown",
   "id": "86e71143-6d8c-45f8-a871-b242ed41bb1a",
   "metadata": {},
   "source": [
    "MUTABLE DATA TYPE:"
   ]
  },
  {
   "cell_type": "markdown",
   "id": "3158d354-a8ec-412c-96cf-6024e8311457",
   "metadata": {},
   "source": [
    "Mutable datatypes are objects that can be modified or altered after they have been created \n",
    "(for example, by adding new elements, removing elements, or replacing elements).\n",
    "Mutable datatypes are:-\n",
    "\n",
    "        lists\n",
    "        Dictionaries\n",
    "        Sets"
   ]
  },
  {
   "cell_type": "code",
   "execution_count": 7,
   "id": "880a32ca-c6a5-4c47-85ad-a58d752e7b7b",
   "metadata": {},
   "outputs": [],
   "source": [
    "a = [21,34.34,'Ankit',3j,True] #a is list "
   ]
  },
  {
   "cell_type": "code",
   "execution_count": 9,
   "id": "e5e7f635-e75c-4eba-ae9c-f879e3ff3151",
   "metadata": {},
   "outputs": [],
   "source": [
    "a[3] = 'Niraj'"
   ]
  },
  {
   "cell_type": "code",
   "execution_count": 10,
   "id": "937494d4-d695-4a1b-988e-b7c7e1bbe10c",
   "metadata": {},
   "outputs": [
    {
     "data": {
      "text/plain": [
       "[21, 34.34, 'Ankit', 'Niraj', True]"
      ]
     },
     "execution_count": 10,
     "metadata": {},
     "output_type": "execute_result"
    }
   ],
   "source": [
    "a"
   ]
  },
  {
   "cell_type": "markdown",
   "id": "d8f514bf-8d13-48cf-9559-d20c91fcc499",
   "metadata": {},
   "source": [
    "IMMUTABLE DATA TYPE:"
   ]
  },
  {
   "cell_type": "markdown",
   "id": "4645e499-b6a3-4534-842d-17b33f76dd99",
   "metadata": {},
   "source": [
    "Immutable datatypes are objects that cannot be modified or altered after they have been created \n",
    "(for example, by adding new elements, removing elements, or replacing elements).\n",
    "Immutable datatypes are:-\n",
    "        \n",
    "        Int\n",
    "        Float\n",
    "        Tuple.\n",
    "        Complex\n",
    "        String\n",
    "        Stringfrozen set [note: immutable version of the set]\n",
    "        Bytes"
   ]
  },
  {
   "cell_type": "code",
   "execution_count": 11,
   "id": "dccce7cc-1d6e-497d-a156-ce922603d0e5",
   "metadata": {},
   "outputs": [],
   "source": [
    "a = 'POP'"
   ]
  },
  {
   "cell_type": "code",
   "execution_count": 12,
   "id": "eb7ffbe3-77c2-4b7b-917e-d7607fe175f4",
   "metadata": {},
   "outputs": [
    {
     "ename": "TypeError",
     "evalue": "'str' object does not support item assignment",
     "output_type": "error",
     "traceback": [
      "\u001b[0;31m---------------------------------------------------------------------------\u001b[0m",
      "\u001b[0;31mTypeError\u001b[0m                                 Traceback (most recent call last)",
      "Cell \u001b[0;32mIn[12], line 1\u001b[0m\n\u001b[0;32m----> 1\u001b[0m \u001b[43ma\u001b[49m\u001b[43m[\u001b[49m\u001b[38;5;241;43m0\u001b[39;49m\u001b[43m]\u001b[49m \u001b[38;5;241m=\u001b[39m \u001b[38;5;124m'\u001b[39m\u001b[38;5;124mT\u001b[39m\u001b[38;5;124m'\u001b[39m\n",
      "\u001b[0;31mTypeError\u001b[0m: 'str' object does not support item assignment"
     ]
    }
   ],
   "source": [
    "a[0] = 'T'"
   ]
  },
  {
   "cell_type": "markdown",
   "id": "ddc49c1a-582f-4a04-8d90-b31599d0a6d2",
   "metadata": {},
   "source": [
    "                                                END                    "
   ]
  }
 ],
 "metadata": {
  "kernelspec": {
   "display_name": "Python 3 (ipykernel)",
   "language": "python",
   "name": "python3"
  },
  "language_info": {
   "codemirror_mode": {
    "name": "ipython",
    "version": 3
   },
   "file_extension": ".py",
   "mimetype": "text/x-python",
   "name": "python",
   "nbconvert_exporter": "python",
   "pygments_lexer": "ipython3",
   "version": "3.10.8"
  }
 },
 "nbformat": 4,
 "nbformat_minor": 5
}
